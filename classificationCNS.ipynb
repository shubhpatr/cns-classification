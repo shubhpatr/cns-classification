{
 "cells": [
  {
   "cell_type": "markdown",
   "metadata": {},
   "source": [
    "# Image Classification Task"
   ]
  },
  {
   "cell_type": "code",
   "execution_count": 1,
   "metadata": {},
   "outputs": [
    {
     "name": "stderr",
     "output_type": "stream",
     "text": [
      "C:\\ProgramData\\Anaconda3\\lib\\site-packages\\tensorflow\\python\\framework\\dtypes.py:516: FutureWarning: Passing (type, 1) or '1type' as a synonym of type is deprecated; in a future version of numpy, it will be understood as (type, (1,)) / '(1,)type'.\n",
      "  _np_qint8 = np.dtype([(\"qint8\", np.int8, 1)])\n",
      "C:\\ProgramData\\Anaconda3\\lib\\site-packages\\tensorflow\\python\\framework\\dtypes.py:517: FutureWarning: Passing (type, 1) or '1type' as a synonym of type is deprecated; in a future version of numpy, it will be understood as (type, (1,)) / '(1,)type'.\n",
      "  _np_quint8 = np.dtype([(\"quint8\", np.uint8, 1)])\n",
      "C:\\ProgramData\\Anaconda3\\lib\\site-packages\\tensorflow\\python\\framework\\dtypes.py:518: FutureWarning: Passing (type, 1) or '1type' as a synonym of type is deprecated; in a future version of numpy, it will be understood as (type, (1,)) / '(1,)type'.\n",
      "  _np_qint16 = np.dtype([(\"qint16\", np.int16, 1)])\n",
      "C:\\ProgramData\\Anaconda3\\lib\\site-packages\\tensorflow\\python\\framework\\dtypes.py:519: FutureWarning: Passing (type, 1) or '1type' as a synonym of type is deprecated; in a future version of numpy, it will be understood as (type, (1,)) / '(1,)type'.\n",
      "  _np_quint16 = np.dtype([(\"quint16\", np.uint16, 1)])\n",
      "C:\\ProgramData\\Anaconda3\\lib\\site-packages\\tensorflow\\python\\framework\\dtypes.py:520: FutureWarning: Passing (type, 1) or '1type' as a synonym of type is deprecated; in a future version of numpy, it will be understood as (type, (1,)) / '(1,)type'.\n",
      "  _np_qint32 = np.dtype([(\"qint32\", np.int32, 1)])\n",
      "C:\\ProgramData\\Anaconda3\\lib\\site-packages\\tensorflow\\python\\framework\\dtypes.py:525: FutureWarning: Passing (type, 1) or '1type' as a synonym of type is deprecated; in a future version of numpy, it will be understood as (type, (1,)) / '(1,)type'.\n",
      "  np_resource = np.dtype([(\"resource\", np.ubyte, 1)])\n",
      "C:\\ProgramData\\Anaconda3\\lib\\site-packages\\tensorboard\\compat\\tensorflow_stub\\dtypes.py:541: FutureWarning: Passing (type, 1) or '1type' as a synonym of type is deprecated; in a future version of numpy, it will be understood as (type, (1,)) / '(1,)type'.\n",
      "  _np_qint8 = np.dtype([(\"qint8\", np.int8, 1)])\n",
      "C:\\ProgramData\\Anaconda3\\lib\\site-packages\\tensorboard\\compat\\tensorflow_stub\\dtypes.py:542: FutureWarning: Passing (type, 1) or '1type' as a synonym of type is deprecated; in a future version of numpy, it will be understood as (type, (1,)) / '(1,)type'.\n",
      "  _np_quint8 = np.dtype([(\"quint8\", np.uint8, 1)])\n",
      "C:\\ProgramData\\Anaconda3\\lib\\site-packages\\tensorboard\\compat\\tensorflow_stub\\dtypes.py:543: FutureWarning: Passing (type, 1) or '1type' as a synonym of type is deprecated; in a future version of numpy, it will be understood as (type, (1,)) / '(1,)type'.\n",
      "  _np_qint16 = np.dtype([(\"qint16\", np.int16, 1)])\n",
      "C:\\ProgramData\\Anaconda3\\lib\\site-packages\\tensorboard\\compat\\tensorflow_stub\\dtypes.py:544: FutureWarning: Passing (type, 1) or '1type' as a synonym of type is deprecated; in a future version of numpy, it will be understood as (type, (1,)) / '(1,)type'.\n",
      "  _np_quint16 = np.dtype([(\"quint16\", np.uint16, 1)])\n",
      "C:\\ProgramData\\Anaconda3\\lib\\site-packages\\tensorboard\\compat\\tensorflow_stub\\dtypes.py:545: FutureWarning: Passing (type, 1) or '1type' as a synonym of type is deprecated; in a future version of numpy, it will be understood as (type, (1,)) / '(1,)type'.\n",
      "  _np_qint32 = np.dtype([(\"qint32\", np.int32, 1)])\n",
      "C:\\ProgramData\\Anaconda3\\lib\\site-packages\\tensorboard\\compat\\tensorflow_stub\\dtypes.py:550: FutureWarning: Passing (type, 1) or '1type' as a synonym of type is deprecated; in a future version of numpy, it will be understood as (type, (1,)) / '(1,)type'.\n",
      "  np_resource = np.dtype([(\"resource\", np.ubyte, 1)])\n"
     ]
    }
   ],
   "source": [
    "import numpy as np\n",
    "import matplotlib.pyplot as plt\n",
    "import os\n",
    "import cv2\n",
    "import random\n",
    "import tensorflow as tf\n",
    "from tensorflow.keras.models import Sequential\n",
    "import tensorflow.keras.layers as layers\n",
    "from tensorflow.keras.layers import Dense, Dropout, Activation, Flatten, Conv2D, MaxPooling2D\n",
    "from tensorflow.keras.callbacks import EarlyStopping,ReduceLROnPlateau,TensorBoard\n",
    "from tensorflow.keras.optimizers import SGD,Adam"
   ]
  },
  {
   "cell_type": "markdown",
   "metadata": {},
   "source": [
    "## Load Data into model and resize, check = true, to view images"
   ]
  },
  {
   "cell_type": "code",
   "execution_count": 2,
   "metadata": {},
   "outputs": [],
   "source": [
    "labels = ['colon','endometrium_1','endometrium_2','kidney' , 'liver', 'lung','lymph_node','pancreas','skin_2','small_intestine','spleen']\n",
    "\n",
    "train_path ='C:/Users/mohap/Desktop/RATask/data-20211216T181612Z-006/data/train'\n",
    "test_path ='C:/Users/mohap/Desktop/RATask/data-20211216T181612Z-006/data/test'\n",
    "IMG_SIZE = 600\n",
    "color = 3\n",
    "check = False\n",
    "if check == True:\n",
    "    for label in labels:\n",
    "        path = os.path.join(train_path,label) #path to organ tissue\n",
    "        for img in os.listdir(path):\n",
    "            if color == 1:\n",
    "                #grayscale\n",
    "                img_array = cv2.imread(os.path.join(path,img), cv2.IMREAD_GRAYSCALE)\n",
    "                plt.imshow(img_array, cmap='gray')\n",
    "            else:\n",
    "                img_array = cv2.imread(os.path.join(path,img))\n",
    "                plt.imshow(img_array)\n",
    "            plt.show()\n",
    "            img_array = cv2.resize(img_array, (IMG_SIZE,IMG_SIZE))\n",
    "            plt.imshow(img_array)\n",
    "            plt.show()\n",
    "            break"
   ]
  },
  {
   "cell_type": "code",
   "execution_count": 3,
   "metadata": {},
   "outputs": [],
   "source": [
    "training_data = []\n",
    "testing_data = []\n",
    "def create_training():\n",
    "    for label in labels:\n",
    "        class_num = labels.index(label)\n",
    "        path = os.path.join(train_path,label) #path to organ tissue\n",
    "        for img in os.listdir(path):\n",
    "            if color == 1:\n",
    "                #grayscale\n",
    "                img_array = cv2.imread(os.path.join(path,img), cv2.IMREAD_GRAYSCALE)\n",
    "                \n",
    "            else:\n",
    "                img_array = cv2.imread(os.path.join(path,img))\n",
    "                \n",
    "            img_array = cv2.resize(img_array, (IMG_SIZE,IMG_SIZE))\n",
    "            training_data.append([img_array,class_num])\n",
    "def create_testing():\n",
    "    for label in labels:\n",
    "        class_num = labels.index(label)\n",
    "        path = os.path.join(test_path,label) #path to organ tissue\n",
    "        for img in os.listdir(path):\n",
    "            if color == 1:\n",
    "                #grayscale\n",
    "                img_array = cv2.imread(os.path.join(path,img), cv2.IMREAD_GRAYSCALE)\n",
    "                \n",
    "            else:\n",
    "                img_array = cv2.imread(os.path.join(path,img))\n",
    "                \n",
    "            img_array = cv2.resize(img_array, (IMG_SIZE,IMG_SIZE))\n",
    "            testing_data.append([img_array,class_num])\n",
    "create_training()   \n",
    "create_testing()  \n"
   ]
  },
  {
   "cell_type": "code",
   "execution_count": 4,
   "metadata": {},
   "outputs": [
    {
     "name": "stdout",
     "output_type": "stream",
     "text": [
      "(600, 600, 3)\n"
     ]
    }
   ],
   "source": [
    "for sample in training_data:\n",
    "    if check == True: print(sample[1])\n",
    "\n",
    "X = []\n",
    "Y = []\n",
    "\n",
    "for features,label in training_data:\n",
    "    X.append(features); Y.append(label)\n",
    "    \n",
    "X = np.array(X).reshape(-1, IMG_SIZE, IMG_SIZE, color)\n",
    "# X = X/255.0\n",
    "\n",
    "print(X.shape[1:])\n",
    "\n",
    "#create multinomial classes\n",
    "from tensorflow.keras.utils import to_categorical\n",
    "y = to_categorical(Y)"
   ]
  },
  {
   "cell_type": "markdown",
   "metadata": {},
   "source": [
    "## Data Preprocessing and Augmentation"
   ]
  },
  {
   "cell_type": "code",
   "execution_count": 5,
   "metadata": {},
   "outputs": [
    {
     "name": "stdout",
     "output_type": "stream",
     "text": [
      "Found 53 images belonging to 11 classes.\n",
      "Found 7 images belonging to 11 classes.\n",
      "Found 41 images belonging to 11 classes.\n"
     ]
    }
   ],
   "source": [
    "from tensorflow.keras.preprocessing.image import ImageDataGenerator# Create Image Data Generator for Train Set\n",
    "\n",
    "labels = ['colon','endometrium_1','endometrium_2','kidney' , 'liver', 'lung','lymph_node','pancreas','skin_2','small_intestine','spleen']\n",
    "\n",
    "train_path ='C:/Users/mohap/Desktop/RATask/data-20211216T181612Z-006/data/train'\n",
    "test_path ='C:/Users/mohap/Desktop/RATask/data-20211216T181612Z-006/data/test'\n",
    "IMG_SIZE = 600\n",
    "\n",
    "def add_noise(img):\n",
    "    '''Add random noise to an image'''\n",
    "    VARIABILITY = 50\n",
    "    deviation = VARIABILITY*random.random()\n",
    "    noise = np.random.normal(0, deviation, img.shape)\n",
    "    img += noise\n",
    "    np.clip(img, 0., 255.)\n",
    "    return img\n",
    "\n",
    "#preprocessing_function=add_noise\n",
    "image_gen = ImageDataGenerator(rescale = 1./255,\n",
    "                               validation_split=0.2,\n",
    "                            rotation_range=30\n",
    "                             )# Create Image Data Generator for Test/Validation Set\n",
    "test_data_gen = ImageDataGenerator(rescale = 1./255)\n",
    "\n",
    "batch_size = 10\n",
    "\n",
    "train = image_gen.flow_from_directory(\n",
    "      train_path,\n",
    "     class_mode='sparse', shuffle=False,\n",
    "      batch_size=batch_size,\n",
    "      subset='training',\n",
    "      target_size=(IMG_SIZE,IMG_SIZE),\n",
    "      )\n",
    "\n",
    "val = image_gen.flow_from_directory(\n",
    "      train_path,\n",
    "     class_mode='sparse', shuffle=False,\n",
    "      batch_size=batch_size,\n",
    "      subset='validation',\n",
    "      target_size=(IMG_SIZE,IMG_SIZE),\n",
    "      )\n",
    "\n",
    "test = test_data_gen.flow_from_directory(\n",
    "      test_path, \n",
    "    class_mode='sparse',\n",
    "      target_size=(IMG_SIZE,IMG_SIZE),\n",
    "      shuffle=False,\n",
    "      )\n",
    "\n",
    "check = False\n",
    "if check == True:\n",
    "    i = 0\n",
    "    for batch in image_gen.flow(X, batch_size=2,\n",
    "                              save_to_dir='C:/Users/mohap/Desktop/RATask/generated', save_prefix='augmented', save_format='jpeg'):\n",
    "        i += 1\n",
    "        if i > 20:\n",
    "            break  "
   ]
  },
  {
   "cell_type": "code",
   "execution_count": 6,
   "metadata": {},
   "outputs": [
    {
     "name": "stdout",
     "output_type": "stream",
     "text": [
      "(600, 600, 3)\n"
     ]
    }
   ],
   "source": [
    "print(train.image_shape)"
   ]
  },
  {
   "cell_type": "markdown",
   "metadata": {},
   "source": [
    "# Baseline Models"
   ]
  },
  {
   "cell_type": "code",
   "execution_count": 7,
   "metadata": {},
   "outputs": [],
   "source": [
    "#Convolution -> Pooling -> Convolution -> Pooling\n",
    "def giveModel(number):\n",
    "    model = Sequential()\n",
    "    if number == 1:\n",
    "        \n",
    "        #64 nodes window_size = 3x3 \n",
    "        model.add( Conv2D(64, (3,3), input_shape = list(train.image_shape)) )#shhape of features exluding number of features\n",
    "        model.add(Activation(\"relu\"))\n",
    "        model.add(MaxPooling2D(pool_size=(2,2)))\n",
    "\n",
    "        model.add(Conv2D(64, (3,3)))#shhape of features exluding number of features\n",
    "        model.add(Activation(\"relu\"))\n",
    "        model.add(MaxPooling2D(pool_size=(2,2)))\n",
    "\n",
    "        model.add(Flatten())#last fully connected\n",
    "        model.add(Dense(64))\n",
    "        model.add(Activation(\"relu\"))\n",
    "\n",
    "        model.add(Dense(len(labels)))\n",
    "        model.add(Activation('softmax'))\n",
    "\n",
    "    elif number == 2:\n",
    "        model.add(Conv2D(32, (3, 3), activation='relu', kernel_initializer='he_uniform', padding='same', input_shape=list(train.image_shape)))\n",
    "        model.add(Conv2D(32, (3, 3), activation='relu', kernel_initializer='he_uniform', padding='same'))\n",
    "        model.add(MaxPooling2D((2, 2)))\n",
    "        model.add(Conv2D(64, (3, 3), activation='relu', kernel_initializer='he_uniform', padding='same'))\n",
    "        model.add(Conv2D(64, (3, 3), activation='relu', kernel_initializer='he_uniform', padding='same'))\n",
    "        model.add(MaxPooling2D((2, 2)))\n",
    "        model.add(Conv2D(128, (3, 3), activation='relu', kernel_initializer='he_uniform', padding='same'))\n",
    "        model.add(Conv2D(128, (3, 3), activation='relu', kernel_initializer='he_uniform', padding='same'))\n",
    "        model.add(MaxPooling2D((2, 2)))\n",
    "        model.add(Flatten())\n",
    "        model.add(Dense(128, activation='relu', kernel_initializer='he_uniform'))\n",
    "        model.add(Dense(len(labels), activation='softmax'))\n",
    "\n",
    "    elif number == 3: \n",
    "        model.add(Conv2D(128, kernel_size=7, activation='relu', input_shape=list(train.image_shape)))\n",
    "        model.add(MaxPooling2D(pool_size=(4,4), strides=(2,2)))\n",
    "        model.add(Conv2D(64, kernel_size=5, activation='relu'))\n",
    "        model.add(MaxPooling2D(pool_size=(4,4), strides=(2,2)))\n",
    "        model.add(Flatten())\n",
    "        model.add(Dense(128,activation='relu'))\n",
    "        model.add(Dense(len(labels),activation='softmax'))\n",
    "\n",
    "    return model\n",
    "\n"
   ]
  },
  {
   "cell_type": "markdown",
   "metadata": {},
   "source": [
    "Training"
   ]
  },
  {
   "cell_type": "code",
   "execution_count": 8,
   "metadata": {},
   "outputs": [
    {
     "name": "stdout",
     "output_type": "stream",
     "text": [
      "WARNING:tensorflow:From C:\\ProgramData\\Anaconda3\\lib\\site-packages\\tensorflow\\python\\ops\\init_ops.py:1251: calling VarianceScaling.__init__ (from tensorflow.python.ops.init_ops) with dtype is deprecated and will be removed in a future version.\n",
      "Instructions for updating:\n",
      "Call initializer instance with the dtype argument instead of passing it to the constructor\n",
      "Epoch 1/50\n",
      "6/6 [==============================] - 82s 14s/step - loss: 111.1792 - acc: 0.3585 - val_loss: 18.3835 - val_acc: 0.0000e+00\n",
      "Epoch 2/50\n",
      "6/6 [==============================] - 74s 12s/step - loss: 5.9086 - acc: 0.0000e+00 - val_loss: 2.3952 - val_acc: 0.2857\n",
      "Epoch 3/50\n",
      "6/6 [==============================] - 70s 12s/step - loss: 2.3955 - acc: 0.2453 - val_loss: 2.3902 - val_acc: 0.2857\n",
      "Epoch 4/50\n",
      "6/6 [==============================] - 71s 12s/step - loss: 2.3922 - acc: 0.2264 - val_loss: 2.3835 - val_acc: 0.2857\n",
      "Epoch 5/50\n",
      "6/6 [==============================] - 71s 12s/step - loss: 2.3874 - acc: 0.1509 - val_loss: 2.3756 - val_acc: 0.5714\n",
      "Epoch 6/50\n",
      "6/6 [==============================] - 71s 12s/step - loss: 2.3821 - acc: 0.3396 - val_loss: 2.3673 - val_acc: 0.5714\n",
      "Epoch 7/50\n",
      "6/6 [==============================] - 70s 12s/step - loss: 2.3765 - acc: 0.3396 - val_loss: 2.3587 - val_acc: 0.5714\n",
      "Epoch 8/50\n",
      "6/6 [==============================] - 70s 12s/step - loss: 2.3710 - acc: 0.3396 - val_loss: 2.3491 - val_acc: 0.5714\n",
      "Epoch 9/50\n",
      "6/6 [==============================] - 70s 12s/step - loss: 2.3642 - acc: 0.3396 - val_loss: 2.3404 - val_acc: 0.5714\n",
      "Epoch 10/50\n",
      "6/6 [==============================] - 69s 12s/step - loss: 2.3592 - acc: 0.3396 - val_loss: 2.3297 - val_acc: 0.5714\n",
      "Epoch 11/50\n",
      "6/6 [==============================] - 81s 14s/step - loss: 2.3525 - acc: 0.3396 - val_loss: 2.3196 - val_acc: 0.5714\n",
      "Epoch 12/50\n",
      "6/6 [==============================] - 77s 13s/step - loss: 2.3454 - acc: 0.3396 - val_loss: 2.3093 - val_acc: 0.5714\n",
      "Epoch 13/50\n",
      "6/6 [==============================] - 71s 12s/step - loss: 2.3390 - acc: 0.3396 - val_loss: 2.2983 - val_acc: 0.5714\n",
      "Epoch 14/50\n",
      "6/6 [==============================] - 70s 12s/step - loss: 2.3312 - acc: 0.3396 - val_loss: 2.2868 - val_acc: 0.5714\n",
      "Epoch 15/50\n",
      "6/6 [==============================] - 71s 12s/step - loss: 2.3249 - acc: 0.3396 - val_loss: 2.2738 - val_acc: 0.5714\n",
      "Epoch 16/50\n",
      "6/6 [==============================] - 71s 12s/step - loss: 2.3165 - acc: 0.3396 - val_loss: 2.2614 - val_acc: 0.5714\n",
      "Epoch 17/50\n",
      "6/6 [==============================] - 70s 12s/step - loss: 2.3086 - acc: 0.3396 - val_loss: 2.2482 - val_acc: 0.5714\n",
      "Epoch 18/50\n",
      "6/6 [==============================] - 72s 12s/step - loss: 2.3000 - acc: 0.3396 - val_loss: 2.2341 - val_acc: 0.5714\n",
      "Epoch 19/50\n",
      "6/6 [==============================] - 71s 12s/step - loss: 2.2915 - acc: 0.3396 - val_loss: 2.2199 - val_acc: 0.5714\n",
      "Epoch 20/50\n",
      "6/6 [==============================] - 71s 12s/step - loss: 2.2833 - acc: 0.3396 - val_loss: 2.2041 - val_acc: 0.5714\n",
      "Epoch 21/50\n",
      "6/6 [==============================] - 70s 12s/step - loss: 2.2728 - acc: 0.3396 - val_loss: 2.1887 - val_acc: 0.5714\n",
      "Epoch 22/50\n",
      "6/6 [==============================] - 71s 12s/step - loss: 2.2642 - acc: 0.3396 - val_loss: 2.1726 - val_acc: 0.5714\n",
      "Epoch 23/50\n",
      "6/6 [==============================] - 71s 12s/step - loss: 2.2546 - acc: 0.3396 - val_loss: 2.1553 - val_acc: 0.5714\n",
      "Epoch 24/50\n",
      "6/6 [==============================] - 70s 12s/step - loss: 2.2448 - acc: 0.3396 - val_loss: 2.1371 - val_acc: 0.5714\n",
      "Epoch 25/50\n",
      "6/6 [==============================] - 71s 12s/step - loss: 2.2354 - acc: 0.3396 - val_loss: 2.1187 - val_acc: 0.5714\n",
      "Epoch 26/50\n",
      "6/6 [==============================] - 71s 12s/step - loss: 2.2247 - acc: 0.3396 - val_loss: 2.1000 - val_acc: 0.5714\n",
      "Epoch 27/50\n",
      "6/6 [==============================] - 71s 12s/step - loss: 2.2139 - acc: 0.3396 - val_loss: 2.0829 - val_acc: 0.5714\n",
      "Epoch 28/50\n",
      "6/6 [==============================] - 71s 12s/step - loss: 2.2031 - acc: 0.3396 - val_loss: 2.0656 - val_acc: 0.5714\n",
      "Epoch 29/50\n",
      "6/6 [==============================] - 70s 12s/step - loss: 2.1933 - acc: 0.3396 - val_loss: 2.0463 - val_acc: 0.5714\n",
      "Epoch 30/50\n",
      "6/6 [==============================] - 71s 12s/step - loss: 2.1825 - acc: 0.3396 - val_loss: 2.0288 - val_acc: 0.5714\n",
      "Epoch 31/50\n",
      "6/6 [==============================] - 71s 12s/step - loss: 2.1725 - acc: 0.3396 - val_loss: 2.0107 - val_acc: 0.5714\n",
      "Epoch 32/50\n",
      "6/6 [==============================] - 71s 12s/step - loss: 2.1631 - acc: 0.3396 - val_loss: 1.9914 - val_acc: 0.5714\n",
      "Epoch 33/50\n",
      "6/6 [==============================] - 70s 12s/step - loss: 2.1520 - acc: 0.3396 - val_loss: 1.9727 - val_acc: 0.5714\n",
      "Epoch 34/50\n",
      "6/6 [==============================] - 71s 12s/step - loss: 2.1433 - acc: 0.3396 - val_loss: 1.9530 - val_acc: 0.5714\n",
      "Epoch 35/50\n",
      "6/6 [==============================] - 71s 12s/step - loss: 2.1315 - acc: 0.3396 - val_loss: 1.9362 - val_acc: 0.5714\n",
      "Epoch 36/50\n",
      "6/6 [==============================] - 70s 12s/step - loss: 2.1225 - acc: 0.3396 - val_loss: 1.9191 - val_acc: 0.5714\n",
      "Epoch 37/50\n",
      "6/6 [==============================] - 70s 12s/step - loss: 2.1149 - acc: 0.3396 - val_loss: 1.8998 - val_acc: 0.5714\n",
      "Epoch 38/50\n",
      "6/6 [==============================] - 71s 12s/step - loss: 2.1068 - acc: 0.3396 - val_loss: 1.8815 - val_acc: 0.5714\n",
      "Epoch 39/50\n",
      "6/6 [==============================] - 73s 12s/step - loss: 2.0976 - acc: 0.3396 - val_loss: 1.8643 - val_acc: 0.5714\n",
      "Epoch 40/50\n",
      "6/6 [==============================] - 71s 12s/step - loss: 2.0881 - acc: 0.3396 - val_loss: 1.8491 - val_acc: 0.5714\n",
      "Epoch 41/50\n",
      "6/6 [==============================] - 71s 12s/step - loss: 2.0800 - acc: 0.3396 - val_loss: 1.8343 - val_acc: 0.5714\n",
      "Epoch 42/50\n",
      "6/6 [==============================] - 71s 12s/step - loss: 2.0737 - acc: 0.3396 - val_loss: 1.8175 - val_acc: 0.5714\n",
      "Epoch 43/50\n",
      "6/6 [==============================] - 71s 12s/step - loss: 2.0671 - acc: 0.3396 - val_loss: 1.8028 - val_acc: 0.5714\n",
      "Epoch 44/50\n",
      "6/6 [==============================] - 72s 12s/step - loss: 2.0593 - acc: 0.3396 - val_loss: 1.7884 - val_acc: 0.5714\n",
      "Epoch 45/50\n",
      "6/6 [==============================] - 71s 12s/step - loss: 2.0532 - acc: 0.3396 - val_loss: 1.7746 - val_acc: 0.5714\n",
      "Epoch 46/50\n",
      "6/6 [==============================] - 71s 12s/step - loss: 2.0490 - acc: 0.3396 - val_loss: 1.7582 - val_acc: 0.5714\n",
      "Epoch 47/50\n",
      "6/6 [==============================] - 71s 12s/step - loss: 2.0427 - acc: 0.3396 - val_loss: 1.7444 - val_acc: 0.5714\n",
      "Epoch 48/50\n",
      "6/6 [==============================] - 70s 12s/step - loss: 2.0372 - acc: 0.3396 - val_loss: 1.7307 - val_acc: 0.5714\n",
      "Epoch 49/50\n",
      "6/6 [==============================] - 71s 12s/step - loss: 2.0306 - acc: 0.3396 - val_loss: 1.7206 - val_acc: 0.5714\n",
      "Epoch 50/50\n",
      "6/6 [==============================] - 71s 12s/step - loss: 2.0277 - acc: 0.3396 - val_loss: 1.7081 - val_acc: 0.5714\n"
     ]
    },
    {
     "data": {
      "text/plain": [
       "<tensorflow.python.keras.callbacks.History at 0x20cec900a08>"
      ]
     },
     "execution_count": 8,
     "metadata": {},
     "output_type": "execute_result"
    }
   ],
   "source": [
    "path = 'C:\\\\Users\\\\mohap\\\\Desktop\\\\RATask\\\\logs'\n",
    "early = EarlyStopping(monitor=\"val_loss\", mode=\"min\", patience=3)#stop if no improvemnt for 3 epochs\n",
    "learning_rate_reduction = ReduceLROnPlateau(monitor=\"val_loss\", patience = 2, verbose=1,factor=0.1, min_lr=0.000001)#reduce learning rate as we reach optimum point\n",
    "tensorboard = TensorBoard(log_dir=path + 'baseline')\n",
    "#tensorboard --logdir=logs/ --command to view training graphs\n",
    "\n",
    "callbacks_list = [tensorboard]\n",
    "\n",
    "from sklearn.utils.class_weight import compute_class_weight\n",
    "weights = compute_class_weight('balanced', np.unique(train.classes),train.classes)\n",
    "cw = dict(zip( np.unique(train.classes), weights))\n",
    "\n",
    "model = giveModel(3)\n",
    "#SGD(lr=0.01, momentum=0.9)\n",
    "#Adam(lr = 0.01, decay = 1e-6)\n",
    "model.compile(loss = \"sparse_categorical_crossentropy\", optimizer = 'adam', metrics=['accuracy'])\n",
    "#, callbacks=callbacks_list\n",
    "#pass in batch size and epochs\n",
    "model.fit(train, epochs = 50,validation_data=val, callbacks=callbacks_list) #you can validation_split for more data\n"
   ]
  },
  {
   "cell_type": "code",
   "execution_count": 9,
   "metadata": {},
   "outputs": [
    {
     "name": "stdout",
     "output_type": "stream",
     "text": [
      "2/2 [==============================] - 11s 5s/step - loss: 2.5596 - acc: 0.0244\n",
      "The testing accuracy is : 2.4390242993831635 %\n"
     ]
    }
   ],
   "source": [
    "raw_cnn_test_accu = model.evaluate(test,verbose=1)\n",
    "print('The testing accuracy is :',raw_cnn_test_accu[1]*100, '%')\n"
   ]
  },
  {
   "cell_type": "code",
   "execution_count": 11,
   "metadata": {},
   "outputs": [],
   "source": [
    "X = []\n",
    "Y = []\n",
    "\n",
    "for features,label in training_data:\n",
    "    X.append(features); Y.append(label)\n",
    "    \n",
    "X = np.array(X).reshape(-1, IMG_SIZE, IMG_SIZE, color)\n",
    "X = X/255.0\n",
    "#y=  model.predict(X)\n",
    "yclasess = model.predict_classes(X)"
   ]
  },
  {
   "cell_type": "code",
   "execution_count": 12,
   "metadata": {},
   "outputs": [
    {
     "name": "stdout",
     "output_type": "stream",
     "text": [
      "[6 6 6 6 6 6 6 6 6 6 6 6 6 6 6 6 6 6 6 6 6 6 6 6 6 6 6 6 6 6 6 6 6 6 6 6 6\n",
      " 6 6 6 6 6 6 6 6 6 6 6 6 6 6 6 6 6 6 6 6 6 6 6]\n"
     ]
    }
   ],
   "source": [
    "print(yclasess)"
   ]
  },
  {
   "cell_type": "code",
   "execution_count": 13,
   "metadata": {},
   "outputs": [
    {
     "data": {
      "text/plain": [
       "[2.5596240758895874, 0.024390243]"
      ]
     },
     "execution_count": 13,
     "metadata": {},
     "output_type": "execute_result"
    }
   ],
   "source": [
    "raw_cnn_test_accu"
   ]
  },
  {
   "cell_type": "code",
   "execution_count": 14,
   "metadata": {},
   "outputs": [
    {
     "name": "stdout",
     "output_type": "stream",
     "text": [
      "Model: \"sequential\"\n",
      "_________________________________________________________________\n",
      "Layer (type)                 Output Shape              Param #   \n",
      "=================================================================\n",
      "conv2d (Conv2D)              (None, 594, 594, 128)     18944     \n",
      "_________________________________________________________________\n",
      "max_pooling2d (MaxPooling2D) (None, 296, 296, 128)     0         \n",
      "_________________________________________________________________\n",
      "conv2d_1 (Conv2D)            (None, 292, 292, 64)      204864    \n",
      "_________________________________________________________________\n",
      "max_pooling2d_1 (MaxPooling2 (None, 145, 145, 64)      0         \n",
      "_________________________________________________________________\n",
      "flatten (Flatten)            (None, 1345600)           0         \n",
      "_________________________________________________________________\n",
      "dense (Dense)                (None, 128)               172236928 \n",
      "_________________________________________________________________\n",
      "dense_1 (Dense)              (None, 11)                1419      \n",
      "=================================================================\n",
      "Total params: 172,462,155\n",
      "Trainable params: 172,462,155\n",
      "Non-trainable params: 0\n",
      "_________________________________________________________________\n"
     ]
    }
   ],
   "source": [
    "model.summary()"
   ]
  },
  {
   "cell_type": "markdown",
   "metadata": {},
   "source": [
    "# Transfer Learning"
   ]
  },
  {
   "cell_type": "markdown",
   "metadata": {},
   "source": [
    "# VGG16"
   ]
  },
  {
   "cell_type": "code",
   "execution_count": 15,
   "metadata": {},
   "outputs": [],
   "source": [
    "from tensorflow.keras.applications.vgg16 import VGG16\n",
    "from tensorflow.keras import Model, layers\n",
    "vgg16_model = VGG16(pooling='max', weights='imagenet', include_top=False, input_shape=list(train.image_shape))\n",
    "for layers in vgg16_model.layers:\n",
    "            layers.trainable=False\n",
    "\n",
    "last_output = vgg16_model.layers[-1].output\n",
    "vgg_x = Flatten()(last_output)\n",
    "vgg_x = Dense(128, activation = 'relu')(vgg_x)\n",
    "vgg_x = Dense(len(labels), activation = 'softmax')(vgg_x)\n",
    "vgg16_final_model = Model(vgg16_model.input, vgg_x)\n",
    "\n",
    "vgg16_final_model.compile(loss = 'sparse_categorical_crossentropy', optimizer= 'adam', metrics=['acc'])\n"
   ]
  },
  {
   "cell_type": "code",
   "execution_count": 18,
   "metadata": {},
   "outputs": [
    {
     "name": "stdout",
     "output_type": "stream",
     "text": [
      "Epoch 1/50\n",
      "6/6 [==============================] - 46s 8s/step - loss: 3.7804 - acc: 0.2264 - val_loss: 1.6025 - val_acc: 0.5714\n",
      "Epoch 2/50\n",
      "6/6 [==============================] - 45s 8s/step - loss: 2.8535 - acc: 0.3208 - val_loss: 1.7392 - val_acc: 0.5714\n",
      "Epoch 3/50\n",
      "6/6 [==============================] - 46s 8s/step - loss: 2.1856 - acc: 0.2075 - val_loss: 2.2348 - val_acc: 0.0000e+00\n",
      "Epoch 4/50\n",
      "6/6 [==============================] - 46s 8s/step - loss: 2.0421 - acc: 0.3019 - val_loss: 1.7350 - val_acc: 0.2857\n",
      "Epoch 5/50\n",
      "6/6 [==============================] - 45s 8s/step - loss: 1.7505 - acc: 0.4340 - val_loss: 1.4137 - val_acc: 0.5714\n",
      "Epoch 6/50\n",
      "6/6 [==============================] - 46s 8s/step - loss: 1.6890 - acc: 0.4906 - val_loss: 1.2134 - val_acc: 0.5714\n",
      "Epoch 7/50\n",
      "6/6 [==============================] - 46s 8s/step - loss: 1.5831 - acc: 0.4528 - val_loss: 1.2725 - val_acc: 0.5714\n",
      "Epoch 8/50\n",
      "6/6 [==============================] - 46s 8s/step - loss: 1.4686 - acc: 0.5849 - val_loss: 1.1665 - val_acc: 0.7143\n",
      "Epoch 9/50\n",
      "6/6 [==============================] - 46s 8s/step - loss: 1.3555 - acc: 0.5283 - val_loss: 1.3997 - val_acc: 0.5714\n",
      "Epoch 10/50\n",
      "6/6 [==============================] - 46s 8s/step - loss: 1.3884 - acc: 0.5472 - val_loss: 1.0033 - val_acc: 0.7143\n",
      "Epoch 11/50\n",
      "6/6 [==============================] - 45s 8s/step - loss: 1.2571 - acc: 0.6792 - val_loss: 1.3005 - val_acc: 0.8571\n",
      "Epoch 12/50\n",
      "6/6 [==============================] - 45s 8s/step - loss: 1.2440 - acc: 0.6415 - val_loss: 1.3292 - val_acc: 0.7143\n",
      "Epoch 13/50\n",
      "6/6 [==============================] - 46s 8s/step - loss: 1.1314 - acc: 0.6981 - val_loss: 1.1442 - val_acc: 0.7143\n",
      "Epoch 14/50\n",
      "6/6 [==============================] - 46s 8s/step - loss: 1.0390 - acc: 0.6981 - val_loss: 1.0999 - val_acc: 0.7143\n",
      "Epoch 15/50\n",
      "6/6 [==============================] - 46s 8s/step - loss: 1.0328 - acc: 0.7547 - val_loss: 1.0661 - val_acc: 0.7143\n",
      "Epoch 16/50\n",
      "6/6 [==============================] - 46s 8s/step - loss: 0.9433 - acc: 0.7358 - val_loss: 1.0457 - val_acc: 0.7143\n",
      "Epoch 17/50\n",
      "6/6 [==============================] - 45s 8s/step - loss: 1.0549 - acc: 0.6415 - val_loss: 0.9446 - val_acc: 0.7143\n",
      "Epoch 18/50\n",
      "6/6 [==============================] - 46s 8s/step - loss: 0.9020 - acc: 0.7736 - val_loss: 1.2145 - val_acc: 0.5714\n",
      "Epoch 19/50\n",
      "6/6 [==============================] - 46s 8s/step - loss: 1.0676 - acc: 0.4906 - val_loss: 1.3724 - val_acc: 0.7143\n",
      "Epoch 20/50\n",
      "6/6 [==============================] - 45s 8s/step - loss: 0.9151 - acc: 0.7547 - val_loss: 1.2080 - val_acc: 0.5714\n",
      "Epoch 21/50\n",
      "6/6 [==============================] - 46s 8s/step - loss: 0.8686 - acc: 0.6981 - val_loss: 1.0601 - val_acc: 0.7143\n",
      "Epoch 22/50\n",
      "6/6 [==============================] - 46s 8s/step - loss: 0.8317 - acc: 0.7358 - val_loss: 1.0583 - val_acc: 0.7143\n",
      "Epoch 23/50\n",
      "6/6 [==============================] - 46s 8s/step - loss: 0.7462 - acc: 0.7736 - val_loss: 0.9266 - val_acc: 0.7143\n",
      "Epoch 24/50\n",
      "6/6 [==============================] - 45s 8s/step - loss: 0.7139 - acc: 0.7925 - val_loss: 1.0759 - val_acc: 0.5714\n",
      "Epoch 25/50\n",
      "6/6 [==============================] - 46s 8s/step - loss: 0.7340 - acc: 0.6981 - val_loss: 1.0415 - val_acc: 0.7143\n",
      "Epoch 26/50\n",
      "6/6 [==============================] - 47s 8s/step - loss: 0.6259 - acc: 0.8113 - val_loss: 1.1151 - val_acc: 0.7143\n",
      "Epoch 27/50\n",
      "6/6 [==============================] - 45s 8s/step - loss: 0.6774 - acc: 0.8113 - val_loss: 1.1780 - val_acc: 0.5714\n",
      "Epoch 28/50\n",
      "6/6 [==============================] - 46s 8s/step - loss: 0.5423 - acc: 0.9057 - val_loss: 1.0087 - val_acc: 0.7143\n",
      "Epoch 29/50\n",
      "6/6 [==============================] - 46s 8s/step - loss: 0.5231 - acc: 0.9057 - val_loss: 1.0291 - val_acc: 0.7143\n",
      "Epoch 30/50\n",
      "6/6 [==============================] - 46s 8s/step - loss: 0.5271 - acc: 0.8868 - val_loss: 1.0538 - val_acc: 0.7143\n",
      "Epoch 31/50\n",
      "6/6 [==============================] - 46s 8s/step - loss: 0.5106 - acc: 0.8868 - val_loss: 0.8649 - val_acc: 0.8571\n",
      "Epoch 32/50\n",
      "6/6 [==============================] - 46s 8s/step - loss: 0.4761 - acc: 0.9245 - val_loss: 0.9315 - val_acc: 0.7143\n",
      "Epoch 33/50\n",
      "6/6 [==============================] - 46s 8s/step - loss: 0.5106 - acc: 0.9434 - val_loss: 0.9926 - val_acc: 0.7143\n",
      "Epoch 34/50\n",
      "6/6 [==============================] - 46s 8s/step - loss: 0.4228 - acc: 0.9434 - val_loss: 1.0459 - val_acc: 0.5714\n",
      "Epoch 35/50\n",
      "6/6 [==============================] - 46s 8s/step - loss: 0.4492 - acc: 0.9245 - val_loss: 0.8584 - val_acc: 0.7143\n",
      "Epoch 36/50\n",
      "6/6 [==============================] - 46s 8s/step - loss: 0.4275 - acc: 0.9245 - val_loss: 0.7834 - val_acc: 0.7143\n",
      "Epoch 37/50\n",
      "6/6 [==============================] - 45s 8s/step - loss: 0.4330 - acc: 0.9245 - val_loss: 0.8750 - val_acc: 0.8571\n",
      "Epoch 38/50\n",
      "6/6 [==============================] - 46s 8s/step - loss: 0.4354 - acc: 0.9623 - val_loss: 0.9709 - val_acc: 0.7143\n",
      "Epoch 39/50\n",
      "6/6 [==============================] - 46s 8s/step - loss: 0.3781 - acc: 0.9434 - val_loss: 1.1419 - val_acc: 0.7143\n",
      "Epoch 40/50\n",
      "6/6 [==============================] - 46s 8s/step - loss: 0.3873 - acc: 0.9434 - val_loss: 0.8015 - val_acc: 0.7143\n",
      "Epoch 41/50\n",
      "6/6 [==============================] - 47s 8s/step - loss: 0.3831 - acc: 0.9434 - val_loss: 1.0491 - val_acc: 0.7143\n",
      "Epoch 42/50\n",
      "6/6 [==============================] - 48s 8s/step - loss: 0.3458 - acc: 0.9623 - val_loss: 0.9864 - val_acc: 0.7143\n",
      "Epoch 43/50\n",
      "6/6 [==============================] - 47s 8s/step - loss: 0.3422 - acc: 0.9434 - val_loss: 0.9052 - val_acc: 0.7143\n",
      "Epoch 44/50\n",
      "6/6 [==============================] - 46s 8s/step - loss: 0.3499 - acc: 0.9811 - val_loss: 0.9224 - val_acc: 0.8571\n",
      "Epoch 45/50\n",
      "6/6 [==============================] - 46s 8s/step - loss: 0.2789 - acc: 0.9811 - val_loss: 0.9511 - val_acc: 0.7143\n",
      "Epoch 46/50\n",
      "6/6 [==============================] - 46s 8s/step - loss: 0.3277 - acc: 0.9623 - val_loss: 0.8664 - val_acc: 0.7143\n",
      "Epoch 47/50\n",
      "6/6 [==============================] - 46s 8s/step - loss: 0.3288 - acc: 0.9434 - val_loss: 0.9117 - val_acc: 0.7143\n",
      "Epoch 48/50\n",
      "6/6 [==============================] - 46s 8s/step - loss: 0.2798 - acc: 0.9811 - val_loss: 0.7423 - val_acc: 0.7143\n",
      "Epoch 49/50\n",
      "6/6 [==============================] - 45s 8s/step - loss: 0.2708 - acc: 0.9811 - val_loss: 0.7956 - val_acc: 0.5714\n",
      "Epoch 50/50\n",
      "6/6 [==============================] - 46s 8s/step - loss: 0.2803 - acc: 0.9811 - val_loss: 1.0039 - val_acc: 0.7143\n"
     ]
    },
    {
     "data": {
      "text/plain": [
       "<tensorflow.python.keras.callbacks.History at 0x20cea464a08>"
      ]
     },
     "execution_count": 18,
     "metadata": {},
     "output_type": "execute_result"
    }
   ],
   "source": [
    "vgg_early_stopping = EarlyStopping(monitor='loss', patience=5)\n",
    "tensorboard = TensorBoard(log_dir=path + 'vgg')\n",
    "\n",
    "vgg16_final_model.fit(train, epochs = 50 ,validation_data = val,verbose=1,callbacks=[tensorboard,vgg_early_stopping])"
   ]
  },
  {
   "cell_type": "code",
   "execution_count": 19,
   "metadata": {},
   "outputs": [
    {
     "name": "stdout",
     "output_type": "stream",
     "text": [
      "2/2 [==============================] - 34s 17s/step - loss: 1.8274 - acc: 0.3902\n",
      "The testing accuracy is : 39.024388790130615 %\n"
     ]
    }
   ],
   "source": [
    "vgg_test_accu = vgg16_final_model.evaluate(test,verbose=1)\n",
    "print('The testing accuracy is :',vgg_test_accu[1]*100, '%')"
   ]
  },
  {
   "cell_type": "code",
   "execution_count": 20,
   "metadata": {},
   "outputs": [
    {
     "name": "stdout",
     "output_type": "stream",
     "text": [
      "0\n",
      "0\n",
      "1\n",
      "1\n",
      "1\n",
      "6\n",
      "2\n",
      "2\n",
      "2\n",
      "2\n",
      "2\n",
      "2\n",
      "2\n",
      "2\n",
      "2\n",
      "2\n",
      "2\n",
      "2\n",
      "2\n",
      "3\n",
      "3\n",
      "3\n",
      "6\n",
      "2\n",
      "5\n",
      "5\n",
      "5\n",
      "5\n",
      "5\n",
      "6\n",
      "10\n",
      "10\n",
      "6\n",
      "6\n",
      "6\n",
      "6\n",
      "6\n",
      "6\n",
      "6\n",
      "6\n",
      "6\n",
      "6\n",
      "6\n",
      "6\n",
      "10\n",
      "6\n",
      "6\n",
      "10\n",
      "6\n",
      "6\n",
      "6\n",
      "6\n",
      "8\n",
      "2\n",
      "8\n",
      "3\n",
      "6\n",
      "10\n",
      "10\n",
      "10\n"
     ]
    }
   ],
   "source": [
    "yclasses = vgg16_final_model.predict(X)\n",
    "for i in yclasses:\n",
    "    curr = list(i)\n",
    "    print(curr.index(max(curr)))"
   ]
  },
  {
   "cell_type": "markdown",
   "metadata": {},
   "source": [
    "# ResNet50"
   ]
  },
  {
   "cell_type": "code",
   "execution_count": 21,
   "metadata": {},
   "outputs": [
    {
     "name": "stderr",
     "output_type": "stream",
     "text": [
      "C:\\ProgramData\\Anaconda3\\lib\\site-packages\\keras_applications\\resnet50.py:265: UserWarning: The output shape of `ResNet50(include_top=False)` has been changed since Keras 2.2.0.\n",
      "  warnings.warn('The output shape of `ResNet50(include_top=False)` '\n"
     ]
    }
   ],
   "source": [
    "from tensorflow.keras.applications.resnet50 import ResNet50\n",
    "from tensorflow.keras import Model, layers\n",
    "\n",
    "ResNet50_model = ResNet50(weights='imagenet', include_top=False, input_shape=list(train.image_shape), classes=11)\n",
    "\n",
    "for layers in ResNet50_model.layers:\n",
    "    layers.trainable=True\n",
    "\n",
    "opt = SGD(lr=0.01,momentum=0.7)\n",
    "resnet50_x = Flatten()(ResNet50_model.output)\n",
    "resnet50_x = Dense(256,activation='relu')(resnet50_x)\n",
    "resnet50_x = Dense(len(labels),activation='softmax')(resnet50_x)\n",
    "resnet50_x_final_model = Model(inputs=ResNet50_model.input, outputs=resnet50_x)\n",
    "resnet50_x_final_model.compile(loss = 'sparse_categorical_crossentropy', optimizer= opt, metrics=['acc'])\n",
    "\n"
   ]
  },
  {
   "cell_type": "code",
   "execution_count": 23,
   "metadata": {},
   "outputs": [
    {
     "name": "stdout",
     "output_type": "stream",
     "text": [
      "Epoch 1/25\n",
      "6/6 [==============================] - 337s 56s/step - loss: 41.1307 - acc: 0.1509 - val_loss: 2.3367 - val_acc: 0.5714\n",
      "Epoch 2/25\n",
      "6/6 [==============================] - 336s 56s/step - loss: 2.3688 - acc: 0.3396 - val_loss: 452507285323776.0000 - val_acc: 0.5714\n",
      "Epoch 3/25\n",
      "6/6 [==============================] - 333s 56s/step - loss: 2.3521 - acc: 0.3396 - val_loss: 4095245287424.0000 - val_acc: 0.5714\n",
      "Epoch 4/25\n",
      "6/6 [==============================] - 335s 56s/step - loss: 2.3375 - acc: 0.3396 - val_loss: 91116068864.0000 - val_acc: 0.4286\n",
      "Epoch 5/25\n",
      "6/6 [==============================] - 336s 56s/step - loss: 2.3207 - acc: 0.3396 - val_loss: 4708865024.0000 - val_acc: 0.5714\n",
      "Epoch 6/25\n",
      "6/6 [==============================] - 336s 56s/step - loss: 2.3065 - acc: 0.3396 - val_loss: 309045248.0000 - val_acc: 0.5714\n",
      "Epoch 7/25\n",
      "6/6 [==============================] - 335s 56s/step - loss: 2.2929 - acc: 0.3396 - val_loss: 51410004.0000 - val_acc: 0.5714\n",
      "Epoch 8/25\n",
      "6/6 [==============================] - 336s 56s/step - loss: 2.2894 - acc: 0.3396 - val_loss: 8796121.0000 - val_acc: 0.5714\n",
      "Epoch 9/25\n",
      "6/6 [==============================] - 335s 56s/step - loss: 2.2885 - acc: 0.3396 - val_loss: 2482786.5000 - val_acc: 0.5714\n",
      "Epoch 10/25\n",
      "6/6 [==============================] - 334s 56s/step - loss: 2.2878 - acc: 0.3396 - val_loss: 731699.0625 - val_acc: 0.5714\n",
      "Epoch 11/25\n",
      "6/6 [==============================] - 350s 58s/step - loss: 2.2870 - acc: 0.3396 - val_loss: 175169.4219 - val_acc: 0.5714\n",
      "Epoch 12/25\n",
      "6/6 [==============================] - 384s 64s/step - loss: 2.2864 - acc: 0.3396 - val_loss: 75363.4375 - val_acc: 0.5714\n",
      "Epoch 13/25\n",
      "6/6 [==============================] - 407s 68s/step - loss: 2.2862 - acc: 0.3396 - val_loss: 29923.2793 - val_acc: 0.5714\n",
      "Epoch 14/25\n",
      "6/6 [==============================] - 400s 67s/step - loss: 2.2862 - acc: 0.3396 - val_loss: 15489.2012 - val_acc: 0.5714\n",
      "Epoch 15/25\n",
      "6/6 [==============================] - 480s 80s/step - loss: 2.2862 - acc: 0.3396 - val_loss: 8138.2568 - val_acc: 0.5714\n",
      "Epoch 16/25\n",
      "6/6 [==============================] - 498s 83s/step - loss: 2.2861 - acc: 0.3396 - val_loss: 3248.0688 - val_acc: 0.5714\n",
      "Epoch 17/25\n",
      "4/6 [===================>..........] - ETA: 2:53 - loss: 2.2664 - acc: 0.4500  "
     ]
    },
    {
     "ename": "KeyboardInterrupt",
     "evalue": "",
     "output_type": "error",
     "traceback": [
      "\u001b[1;31m---------------------------------------------------------------------------\u001b[0m",
      "\u001b[1;31mKeyboardInterrupt\u001b[0m                         Traceback (most recent call last)",
      "\u001b[1;32m<ipython-input-23-c01a31492b40>\u001b[0m in \u001b[0;36m<module>\u001b[1;34m\u001b[0m\n\u001b[0;32m      6\u001b[0m \u001b[0mcallbacklist\u001b[0m \u001b[1;33m=\u001b[0m \u001b[1;33m[\u001b[0m\u001b[0mtensorboard\u001b[0m\u001b[1;33m,\u001b[0m\u001b[0mresnet_early_stopping\u001b[0m\u001b[1;33m,\u001b[0m\u001b[0mreduce_lr\u001b[0m\u001b[1;33m]\u001b[0m\u001b[1;33m\u001b[0m\u001b[1;33m\u001b[0m\u001b[0m\n\u001b[0;32m      7\u001b[0m \u001b[1;33m\u001b[0m\u001b[0m\n\u001b[1;32m----> 8\u001b[1;33m \u001b[0mresnet50_x_final_model\u001b[0m\u001b[1;33m.\u001b[0m\u001b[0mfit\u001b[0m\u001b[1;33m(\u001b[0m\u001b[0mtrain\u001b[0m\u001b[1;33m,\u001b[0m \u001b[0mepochs\u001b[0m \u001b[1;33m=\u001b[0m \u001b[1;36m25\u001b[0m \u001b[1;33m,\u001b[0m\u001b[0mvalidation_data\u001b[0m \u001b[1;33m=\u001b[0m \u001b[0mval\u001b[0m\u001b[1;33m,\u001b[0m\u001b[0mcallbacks\u001b[0m\u001b[1;33m=\u001b[0m\u001b[0mcallbacklist\u001b[0m\u001b[1;33m,\u001b[0m\u001b[0mverbose\u001b[0m\u001b[1;33m=\u001b[0m\u001b[1;36m1\u001b[0m\u001b[1;33m)\u001b[0m\u001b[1;33m\u001b[0m\u001b[1;33m\u001b[0m\u001b[0m\n\u001b[0m",
      "\u001b[1;32mC:\\ProgramData\\Anaconda3\\lib\\site-packages\\tensorflow\\python\\keras\\engine\\training.py\u001b[0m in \u001b[0;36mfit\u001b[1;34m(self, x, y, batch_size, epochs, verbose, callbacks, validation_split, validation_data, shuffle, class_weight, sample_weight, initial_epoch, steps_per_epoch, validation_steps, validation_freq, max_queue_size, workers, use_multiprocessing, **kwargs)\u001b[0m\n\u001b[0;32m    671\u001b[0m           \u001b[0muse_multiprocessing\u001b[0m\u001b[1;33m=\u001b[0m\u001b[0muse_multiprocessing\u001b[0m\u001b[1;33m,\u001b[0m\u001b[1;33m\u001b[0m\u001b[1;33m\u001b[0m\u001b[0m\n\u001b[0;32m    672\u001b[0m           \u001b[0mshuffle\u001b[0m\u001b[1;33m=\u001b[0m\u001b[0mshuffle\u001b[0m\u001b[1;33m,\u001b[0m\u001b[1;33m\u001b[0m\u001b[1;33m\u001b[0m\u001b[0m\n\u001b[1;32m--> 673\u001b[1;33m           initial_epoch=initial_epoch)\n\u001b[0m\u001b[0;32m    674\u001b[0m     \u001b[1;32mif\u001b[0m \u001b[0mtraining_utils\u001b[0m\u001b[1;33m.\u001b[0m\u001b[0mis_eager_dataset_or_iterator\u001b[0m\u001b[1;33m(\u001b[0m\u001b[0mx\u001b[0m\u001b[1;33m)\u001b[0m\u001b[1;33m:\u001b[0m\u001b[1;33m\u001b[0m\u001b[1;33m\u001b[0m\u001b[0m\n\u001b[0;32m    675\u001b[0m       \u001b[1;31m# Make sure that y, sample_weights, validation_split are not passed.\u001b[0m\u001b[1;33m\u001b[0m\u001b[1;33m\u001b[0m\u001b[1;33m\u001b[0m\u001b[0m\n",
      "\u001b[1;32mC:\\ProgramData\\Anaconda3\\lib\\site-packages\\tensorflow\\python\\keras\\engine\\training.py\u001b[0m in \u001b[0;36mfit_generator\u001b[1;34m(self, generator, steps_per_epoch, epochs, verbose, callbacks, validation_data, validation_steps, validation_freq, class_weight, max_queue_size, workers, use_multiprocessing, shuffle, initial_epoch)\u001b[0m\n\u001b[0;32m   1431\u001b[0m         \u001b[0mshuffle\u001b[0m\u001b[1;33m=\u001b[0m\u001b[0mshuffle\u001b[0m\u001b[1;33m,\u001b[0m\u001b[1;33m\u001b[0m\u001b[1;33m\u001b[0m\u001b[0m\n\u001b[0;32m   1432\u001b[0m         \u001b[0minitial_epoch\u001b[0m\u001b[1;33m=\u001b[0m\u001b[0minitial_epoch\u001b[0m\u001b[1;33m,\u001b[0m\u001b[1;33m\u001b[0m\u001b[1;33m\u001b[0m\u001b[0m\n\u001b[1;32m-> 1433\u001b[1;33m         steps_name='steps_per_epoch')\n\u001b[0m\u001b[0;32m   1434\u001b[0m \u001b[1;33m\u001b[0m\u001b[0m\n\u001b[0;32m   1435\u001b[0m   def evaluate_generator(self,\n",
      "\u001b[1;32mC:\\ProgramData\\Anaconda3\\lib\\site-packages\\tensorflow\\python\\keras\\engine\\training_generator.py\u001b[0m in \u001b[0;36mmodel_iteration\u001b[1;34m(model, data, steps_per_epoch, epochs, verbose, callbacks, validation_data, validation_steps, validation_freq, class_weight, max_queue_size, workers, use_multiprocessing, shuffle, initial_epoch, mode, batch_size, steps_name, **kwargs)\u001b[0m\n\u001b[0;32m    262\u001b[0m \u001b[1;33m\u001b[0m\u001b[0m\n\u001b[0;32m    263\u001b[0m       \u001b[0mis_deferred\u001b[0m \u001b[1;33m=\u001b[0m \u001b[1;32mnot\u001b[0m \u001b[0mmodel\u001b[0m\u001b[1;33m.\u001b[0m\u001b[0m_is_compiled\u001b[0m\u001b[1;33m\u001b[0m\u001b[1;33m\u001b[0m\u001b[0m\n\u001b[1;32m--> 264\u001b[1;33m       \u001b[0mbatch_outs\u001b[0m \u001b[1;33m=\u001b[0m \u001b[0mbatch_function\u001b[0m\u001b[1;33m(\u001b[0m\u001b[1;33m*\u001b[0m\u001b[0mbatch_data\u001b[0m\u001b[1;33m)\u001b[0m\u001b[1;33m\u001b[0m\u001b[1;33m\u001b[0m\u001b[0m\n\u001b[0m\u001b[0;32m    265\u001b[0m       \u001b[1;32mif\u001b[0m \u001b[1;32mnot\u001b[0m \u001b[0misinstance\u001b[0m\u001b[1;33m(\u001b[0m\u001b[0mbatch_outs\u001b[0m\u001b[1;33m,\u001b[0m \u001b[0mlist\u001b[0m\u001b[1;33m)\u001b[0m\u001b[1;33m:\u001b[0m\u001b[1;33m\u001b[0m\u001b[1;33m\u001b[0m\u001b[0m\n\u001b[0;32m    266\u001b[0m         \u001b[0mbatch_outs\u001b[0m \u001b[1;33m=\u001b[0m \u001b[1;33m[\u001b[0m\u001b[0mbatch_outs\u001b[0m\u001b[1;33m]\u001b[0m\u001b[1;33m\u001b[0m\u001b[1;33m\u001b[0m\u001b[0m\n",
      "\u001b[1;32mC:\\ProgramData\\Anaconda3\\lib\\site-packages\\tensorflow\\python\\keras\\engine\\training.py\u001b[0m in \u001b[0;36mtrain_on_batch\u001b[1;34m(self, x, y, sample_weight, class_weight, reset_metrics)\u001b[0m\n\u001b[0;32m   1173\u001b[0m       \u001b[0mself\u001b[0m\u001b[1;33m.\u001b[0m\u001b[0m_update_sample_weight_modes\u001b[0m\u001b[1;33m(\u001b[0m\u001b[0msample_weights\u001b[0m\u001b[1;33m=\u001b[0m\u001b[0msample_weights\u001b[0m\u001b[1;33m)\u001b[0m\u001b[1;33m\u001b[0m\u001b[1;33m\u001b[0m\u001b[0m\n\u001b[0;32m   1174\u001b[0m       \u001b[0mself\u001b[0m\u001b[1;33m.\u001b[0m\u001b[0m_make_train_function\u001b[0m\u001b[1;33m(\u001b[0m\u001b[1;33m)\u001b[0m\u001b[1;33m\u001b[0m\u001b[1;33m\u001b[0m\u001b[0m\n\u001b[1;32m-> 1175\u001b[1;33m       \u001b[0moutputs\u001b[0m \u001b[1;33m=\u001b[0m \u001b[0mself\u001b[0m\u001b[1;33m.\u001b[0m\u001b[0mtrain_function\u001b[0m\u001b[1;33m(\u001b[0m\u001b[0mins\u001b[0m\u001b[1;33m)\u001b[0m  \u001b[1;31m# pylint: disable=not-callable\u001b[0m\u001b[1;33m\u001b[0m\u001b[1;33m\u001b[0m\u001b[0m\n\u001b[0m\u001b[0;32m   1176\u001b[0m \u001b[1;33m\u001b[0m\u001b[0m\n\u001b[0;32m   1177\u001b[0m     \u001b[1;32mif\u001b[0m \u001b[0mreset_metrics\u001b[0m\u001b[1;33m:\u001b[0m\u001b[1;33m\u001b[0m\u001b[1;33m\u001b[0m\u001b[0m\n",
      "\u001b[1;32mC:\\ProgramData\\Anaconda3\\lib\\site-packages\\tensorflow\\python\\keras\\backend.py\u001b[0m in \u001b[0;36m__call__\u001b[1;34m(self, inputs)\u001b[0m\n\u001b[0;32m   3290\u001b[0m \u001b[1;33m\u001b[0m\u001b[0m\n\u001b[0;32m   3291\u001b[0m     fetched = self._callable_fn(*array_vals,\n\u001b[1;32m-> 3292\u001b[1;33m                                 run_metadata=self.run_metadata)\n\u001b[0m\u001b[0;32m   3293\u001b[0m     \u001b[0mself\u001b[0m\u001b[1;33m.\u001b[0m\u001b[0m_call_fetch_callbacks\u001b[0m\u001b[1;33m(\u001b[0m\u001b[0mfetched\u001b[0m\u001b[1;33m[\u001b[0m\u001b[1;33m-\u001b[0m\u001b[0mlen\u001b[0m\u001b[1;33m(\u001b[0m\u001b[0mself\u001b[0m\u001b[1;33m.\u001b[0m\u001b[0m_fetches\u001b[0m\u001b[1;33m)\u001b[0m\u001b[1;33m:\u001b[0m\u001b[1;33m]\u001b[0m\u001b[1;33m)\u001b[0m\u001b[1;33m\u001b[0m\u001b[1;33m\u001b[0m\u001b[0m\n\u001b[0;32m   3294\u001b[0m     output_structure = nest.pack_sequence_as(\n",
      "\u001b[1;32mC:\\ProgramData\\Anaconda3\\lib\\site-packages\\tensorflow\\python\\client\\session.py\u001b[0m in \u001b[0;36m__call__\u001b[1;34m(self, *args, **kwargs)\u001b[0m\n\u001b[0;32m   1456\u001b[0m         ret = tf_session.TF_SessionRunCallable(self._session._session,\n\u001b[0;32m   1457\u001b[0m                                                \u001b[0mself\u001b[0m\u001b[1;33m.\u001b[0m\u001b[0m_handle\u001b[0m\u001b[1;33m,\u001b[0m \u001b[0margs\u001b[0m\u001b[1;33m,\u001b[0m\u001b[1;33m\u001b[0m\u001b[1;33m\u001b[0m\u001b[0m\n\u001b[1;32m-> 1458\u001b[1;33m                                                run_metadata_ptr)\n\u001b[0m\u001b[0;32m   1459\u001b[0m         \u001b[1;32mif\u001b[0m \u001b[0mrun_metadata\u001b[0m\u001b[1;33m:\u001b[0m\u001b[1;33m\u001b[0m\u001b[1;33m\u001b[0m\u001b[0m\n\u001b[0;32m   1460\u001b[0m           \u001b[0mproto_data\u001b[0m \u001b[1;33m=\u001b[0m \u001b[0mtf_session\u001b[0m\u001b[1;33m.\u001b[0m\u001b[0mTF_GetBuffer\u001b[0m\u001b[1;33m(\u001b[0m\u001b[0mrun_metadata_ptr\u001b[0m\u001b[1;33m)\u001b[0m\u001b[1;33m\u001b[0m\u001b[1;33m\u001b[0m\u001b[0m\n",
      "\u001b[1;31mKeyboardInterrupt\u001b[0m: "
     ]
    }
   ],
   "source": [
    "resnet_early_stopping = EarlyStopping(monitor='loss', patience=5)\n",
    "reduce_lr = ReduceLROnPlateau(monitor='val_loss', factor=0.05, patience=5, min_lr=0.000002)\n",
    "tensorboard = TensorBoard(log_dir=path + 'resnet')\n",
    "\n",
    "\n",
    "callbacklist = [tensorboard,resnet_early_stopping,reduce_lr]\n",
    "\n",
    "resnet50_x_final_model.fit(train, epochs = 25 ,validation_data = val,callbacks=callbacklist,verbose=1)"
   ]
  },
  {
   "cell_type": "code",
   "execution_count": 24,
   "metadata": {},
   "outputs": [
    {
     "name": "stdout",
     "output_type": "stream",
     "text": [
      "2/2 [==============================] - 26s 13s/step - loss: 213.8433 - acc: 0.0244\n",
      "The testing accuracy is : 2.4390242993831635 %\n"
     ]
    }
   ],
   "source": [
    "resnet_test_accu = resnet50_x_final_model.evaluate(test,verbose=1)\n",
    "print('The testing accuracy is :',resnet_test_accu[1]*100, '%')"
   ]
  },
  {
   "cell_type": "code",
   "execution_count": 25,
   "metadata": {},
   "outputs": [
    {
     "name": "stdout",
     "output_type": "stream",
     "text": [
      "6\n",
      "6\n",
      "6\n",
      "6\n",
      "6\n",
      "6\n",
      "10\n",
      "6\n",
      "6\n",
      "6\n",
      "6\n",
      "6\n",
      "6\n",
      "6\n",
      "10\n",
      "6\n",
      "6\n",
      "6\n",
      "6\n",
      "6\n",
      "6\n",
      "6\n",
      "6\n",
      "10\n",
      "10\n",
      "10\n",
      "10\n",
      "10\n",
      "10\n",
      "6\n",
      "6\n",
      "6\n",
      "6\n",
      "10\n",
      "6\n",
      "6\n",
      "6\n",
      "6\n",
      "6\n",
      "6\n",
      "6\n",
      "10\n",
      "6\n",
      "6\n",
      "6\n",
      "6\n",
      "6\n",
      "6\n",
      "6\n",
      "6\n",
      "6\n",
      "6\n",
      "6\n",
      "6\n",
      "6\n",
      "6\n",
      "6\n",
      "6\n",
      "6\n",
      "6\n"
     ]
    }
   ],
   "source": [
    "yclasses = resnet50_x_final_model.predict(X)\n",
    "for i in yclasses:\n",
    "    curr = list(i)\n",
    "    print(curr.index(max(curr)))"
   ]
  },
  {
   "cell_type": "markdown",
   "metadata": {},
   "source": [
    "# InceptionV3"
   ]
  },
  {
   "cell_type": "code",
   "execution_count": 26,
   "metadata": {},
   "outputs": [],
   "source": [
    "from tensorflow.keras.applications.inception_v3 import InceptionV3\n",
    "from tensorflow.keras import Model, layers\n",
    "\n",
    "InceptionV3_model = InceptionV3(input_shape=list(train.image_shape),weights='imagenet', include_top=False)\n",
    "for layer in InceptionV3_model.layers[:249]:\n",
    "       layer.trainable = False\n",
    "for layer in InceptionV3_model.layers[249:]:\n",
    "       layer.trainable = True\n",
    "InceptionV3_last_output = InceptionV3_model.output\n",
    "InceptionV3_maxpooled_output = Flatten()(InceptionV3_last_output)\n",
    "InceptionV3_x = Dense(1024, activation='relu')(InceptionV3_maxpooled_output)\n",
    "InceptionV3_x = Dropout(0.5)(InceptionV3_x)\n",
    "InceptionV3_x = Dense(len(labels), activation='softmax')(InceptionV3_x)\n",
    "InceptionV3_x_final_model = Model(inputs=InceptionV3_model.input,outputs=InceptionV3_x)\n",
    "InceptionV3_x_final_model.compile(optimizer=SGD(lr=0.0001, momentum=0.9), loss='sparse_categorical_crossentropy',metrics=['accuracy'])\n"
   ]
  },
  {
   "cell_type": "code",
   "execution_count": 27,
   "metadata": {},
   "outputs": [
    {
     "name": "stdout",
     "output_type": "stream",
     "text": [
      "Epoch 1/25\n",
      "6/6 [==============================] - 110s 18s/step - loss: 4.7216 - acc: 0.0377 - val_loss: 2.9525 - val_acc: 0.5714\n",
      "Epoch 2/25\n",
      "6/6 [==============================] - 79s 13s/step - loss: 2.8384 - acc: 0.3019 - val_loss: 1.1935 - val_acc: 0.7143\n",
      "Epoch 3/25\n",
      "6/6 [==============================] - 79s 13s/step - loss: 2.9227 - acc: 0.3962 - val_loss: 1.3987 - val_acc: 0.4286\n",
      "Epoch 4/25\n",
      "6/6 [==============================] - 81s 13s/step - loss: 1.3959 - acc: 0.5660 - val_loss: 2.4653 - val_acc: 0.0000e+00\n",
      "Epoch 5/25\n",
      "6/6 [==============================] - 77s 13s/step - loss: 1.0188 - acc: 0.7925 - val_loss: 1.5167 - val_acc: 0.5714\n",
      "Epoch 6/25\n",
      "6/6 [==============================] - 88s 15s/step - loss: 0.8721 - acc: 0.7736 - val_loss: 1.0341 - val_acc: 0.5714\n",
      "Epoch 7/25\n",
      "6/6 [==============================] - 80s 13s/step - loss: 0.6559 - acc: 0.8302 - val_loss: 1.7364 - val_acc: 0.4286\n",
      "Epoch 8/25\n",
      "6/6 [==============================] - 85s 14s/step - loss: 0.5553 - acc: 0.8302 - val_loss: 1.6702 - val_acc: 0.5714\n",
      "Epoch 9/25\n",
      "6/6 [==============================] - 82s 14s/step - loss: 0.1930 - acc: 0.9057 - val_loss: 2.4980 - val_acc: 0.2857\n",
      "Epoch 10/25\n",
      "6/6 [==============================] - 83s 14s/step - loss: 0.2232 - acc: 0.8868 - val_loss: 1.9597 - val_acc: 0.4286\n",
      "Epoch 11/25\n",
      "6/6 [==============================] - 85s 14s/step - loss: 0.3297 - acc: 0.9245 - val_loss: 2.0443 - val_acc: 0.4286\n",
      "Epoch 12/25\n",
      "6/6 [==============================] - 80s 13s/step - loss: 0.0768 - acc: 0.9623 - val_loss: 1.4391 - val_acc: 0.2857\n",
      "Epoch 13/25\n",
      "6/6 [==============================] - 82s 14s/step - loss: 0.1605 - acc: 0.9057 - val_loss: 1.3202 - val_acc: 0.7143\n",
      "Epoch 14/25\n",
      "6/6 [==============================] - 79s 13s/step - loss: 0.1259 - acc: 0.9434 - val_loss: 1.2316 - val_acc: 0.7143\n",
      "Epoch 15/25\n",
      "6/6 [==============================] - 89s 15s/step - loss: 0.1062 - acc: 0.9623 - val_loss: 1.3947 - val_acc: 0.4286\n",
      "Epoch 16/25\n",
      "6/6 [==============================] - 74s 12s/step - loss: 0.1076 - acc: 0.9623 - val_loss: 1.1682 - val_acc: 0.4286\n",
      "Epoch 17/25\n",
      "6/6 [==============================] - 77s 13s/step - loss: 0.1026 - acc: 0.9623 - val_loss: 0.8023 - val_acc: 0.5714\n"
     ]
    },
    {
     "data": {
      "text/plain": [
       "<tensorflow.python.keras.callbacks.History at 0x20d5add3d88>"
      ]
     },
     "execution_count": 27,
     "metadata": {},
     "output_type": "execute_result"
    }
   ],
   "source": [
    "inception_early_stopping = EarlyStopping(monitor='loss', patience=5)\n",
    "tensorboard = TensorBoard(log_dir=path + 'inception')\n",
    "InceptionV3_x_final_model.fit(train, epochs = 25, validation_data = val,callbacks=[tensorboard,inception_early_stopping],verbose=1)"
   ]
  },
  {
   "cell_type": "code",
   "execution_count": 28,
   "metadata": {},
   "outputs": [
    {
     "name": "stdout",
     "output_type": "stream",
     "text": [
      "2/2 [==============================] - 20s 10s/step - loss: 2.4249 - acc: 0.1220\n",
      "The testing accuracy is : 12.195122241973877 %\n"
     ]
    }
   ],
   "source": [
    "incep_test_accu = InceptionV3_x_final_model.evaluate(test,verbose=1)\n",
    "print('The testing accuracy is :',incep_test_accu[1]*100, '%')"
   ]
  },
  {
   "cell_type": "code",
   "execution_count": 29,
   "metadata": {},
   "outputs": [
    {
     "name": "stdout",
     "output_type": "stream",
     "text": [
      "0\n",
      "0\n",
      "1\n",
      "1\n",
      "6\n",
      "6\n",
      "2\n",
      "2\n",
      "8\n",
      "8\n",
      "2\n",
      "2\n",
      "2\n",
      "2\n",
      "2\n",
      "6\n",
      "8\n",
      "2\n",
      "2\n",
      "3\n",
      "2\n",
      "6\n",
      "4\n",
      "8\n",
      "5\n",
      "5\n",
      "5\n",
      "5\n",
      "5\n",
      "6\n",
      "6\n",
      "6\n",
      "0\n",
      "6\n",
      "8\n",
      "6\n",
      "6\n",
      "10\n",
      "10\n",
      "6\n",
      "8\n",
      "6\n",
      "6\n",
      "6\n",
      "4\n",
      "2\n",
      "2\n",
      "6\n",
      "6\n",
      "6\n",
      "6\n",
      "2\n",
      "8\n",
      "8\n",
      "8\n",
      "6\n",
      "4\n",
      "2\n",
      "6\n",
      "10\n"
     ]
    }
   ],
   "source": [
    "yclasses = InceptionV3_x_final_model.predict(X)\n",
    "for i in yclasses:\n",
    "    curr = list(i)\n",
    "    print(curr.index(max(curr)))"
   ]
  },
  {
   "cell_type": "markdown",
   "metadata": {},
   "source": [
    "# Summary"
   ]
  },
  {
   "cell_type": "code",
   "execution_count": 38,
   "metadata": {},
   "outputs": [
    {
     "name": "stdout",
     "output_type": "stream",
     "text": [
      "+-----------------+--------------+\n",
      "|   Test Accuracy | Model        |\n",
      "+=================+==============+\n",
      "|       0.0243902 | Raw CNN      |\n",
      "+-----------------+--------------+\n",
      "|       0.121951  | Inception_v3 |\n",
      "+-----------------+--------------+\n",
      "|       0.390244  | VGG16        |\n",
      "+-----------------+--------------+\n",
      "|       0.0243902 | resnet50     |\n",
      "+-----------------+--------------+\n"
     ]
    }
   ],
   "source": [
    "from tabulate import tabulate\n",
    "\n",
    "mydata = [{\"Raw CNN\", raw_cnn_test_accu[1]},\n",
    "          {\"Inception_v3\", incep_test_accu[1]}, \n",
    "          {\"VGG16\", vgg_test_accu[1]}, \n",
    "          {\"resnet50\", resnet_test_accu[1]}, ]\n",
    "\n",
    "head = [ \"Test Accuracy\", \"Model\"]\n",
    "\n",
    "print(tabulate(mydata, headers=head, tablefmt=\"grid\"))"
   ]
  },
  {
   "cell_type": "code",
   "execution_count": null,
   "metadata": {},
   "outputs": [],
   "source": [
    "vgg16_final_model.save('C:/Users/mohap/Desktop/RATask/model/vgg')"
   ]
  },
  {
   "cell_type": "code",
   "execution_count": null,
   "metadata": {},
   "outputs": [],
   "source": [
    "model.save('C:/Users/mohap/Desktop/RATask/model/baseline')"
   ]
  },
  {
   "cell_type": "code",
   "execution_count": null,
   "metadata": {},
   "outputs": [],
   "source": [
    "resnet50_x_final_model.save('C:/Users/mohap/Desktop/RATask/model/resnet')"
   ]
  },
  {
   "cell_type": "code",
   "execution_count": null,
   "metadata": {},
   "outputs": [],
   "source": [
    "InceptionV3_x_final_model.save('C:/Users/mohap/Desktop/RATask/model/inception')"
   ]
  },
  {
   "cell_type": "code",
   "execution_count": 39,
   "metadata": {},
   "outputs": [],
   "source": [
    "import pandas as pd"
   ]
  },
  {
   "cell_type": "code",
   "execution_count": 40,
   "metadata": {},
   "outputs": [
    {
     "data": {
      "text/plain": [
       "<matplotlib.axes._subplots.AxesSubplot at 0x20d514c3ec8>"
      ]
     },
     "execution_count": 40,
     "metadata": {},
     "output_type": "execute_result"
    },
    {
     "data": {
      "image/png": "[encoded data removed]",
      "text/plain": [
       "<Figure size 432x288 with 1 Axes>"
      ]
     },
     "metadata": {
      "needs_background": "light"
     },
     "output_type": "display_data"
    }
   ],
   "source": [
    "pd.DataFrame(model.history.history).plot()"
   ]
  },
  {
   "cell_type": "code",
   "execution_count": 41,
   "metadata": {},
   "outputs": [
    {
     "data": {
      "text/plain": [
       "<matplotlib.axes._subplots.AxesSubplot at 0x20d515cf348>"
      ]
     },
     "execution_count": 41,
     "metadata": {},
     "output_type": "execute_result"
    },
    {
     "data": {
      "image/png": "[encoded data removed]",
      "text/plain": [
       "<Figure size 432x288 with 1 Axes>"
      ]
     },
     "metadata": {
      "needs_background": "light"
     },
     "output_type": "display_data"
    }
   ],
   "source": [
    "pd.DataFrame(vgg16_final_model.history.history).plot()"
   ]
  },
  {
   "cell_type": "code",
   "execution_count": 42,
   "metadata": {},
   "outputs": [
    {
     "data": {
      "text/plain": [
       "<matplotlib.axes._subplots.AxesSubplot at 0x20d568c5848>"
      ]
     },
     "execution_count": 42,
     "metadata": {},
     "output_type": "execute_result"
    },
    {
     "data": {
      "image/png": "[encoded data removed]",
      "text/plain": [
       "<Figure size 432x288 with 1 Axes>"
      ]
     },
     "metadata": {
      "needs_background": "light"
     },
     "output_type": "display_data"
    }
   ],
   "source": [
    "pd.DataFrame(resnet50_x_final_model.history.history).plot()"
   ]
  },
  {
   "cell_type": "code",
   "execution_count": 44,
   "metadata": {},
   "outputs": [
    {
     "data": {
      "text/plain": [
       "<matplotlib.axes._subplots.AxesSubplot at 0x20d56a48748>"
      ]
     },
     "execution_count": 44,
     "metadata": {},
     "output_type": "execute_result"
    },
    {
     "data": {
      "image/png": "[encoded data removed]",
      "text/plain": [
       "<Figure size 432x288 with 1 Axes>"
      ]
     },
     "metadata": {
      "needs_background": "light"
     },
     "output_type": "display_data"
    }
   ],
   "source": [
    "pd.DataFrame(InceptionV3_x_final_model.history.history).plot()"
   ]
  },
  {
   "cell_type": "code",
   "execution_count": null,
   "metadata": {},
   "outputs": [],
   "source": []
  }
 ],
 "metadata": {
  "kernelspec": {
   "display_name": "Python 3",
   "language": "python",
   "name": "python3"
  }
 },
 "nbformat": 4,
 "nbformat_minor": 4
}
